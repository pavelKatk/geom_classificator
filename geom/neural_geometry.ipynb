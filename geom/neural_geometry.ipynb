{
 "cells": [
  {
   "cell_type": "code",
   "execution_count": 1,
   "metadata": {},
   "outputs": [
    {
     "name": "stderr",
     "output_type": "stream",
     "text": [
      "Using TensorFlow backend.\n",
      "/usr/lib/python3.6/importlib/_bootstrap.py:219: RuntimeWarning: numpy.dtype size changed, may indicate binary incompatibility. Expected 96, got 88\n",
      "  return f(*args, **kwds)\n",
      "/usr/lib/python3.6/importlib/_bootstrap.py:219: RuntimeWarning: numpy.dtype size changed, may indicate binary incompatibility. Expected 96, got 88\n",
      "  return f(*args, **kwds)\n"
     ]
    }
   ],
   "source": [
    "from keras.preprocessing.image import ImageDataGenerator\n",
    "from keras.preprocessing import image\n",
    "from keras.models import Sequential\n",
    "from keras.layers import Conv2D, MaxPooling2D\n",
    "from keras.layers import Activation,Dropout, Flatten,Dense\n",
    "from PIL import Image\n",
    "import numpy as np"
   ]
  },
  {
   "cell_type": "code",
   "execution_count": 4,
   "metadata": {},
   "outputs": [
    {
     "name": "stdout",
     "output_type": "stream",
     "text": [
      "Found 300 images belonging to 3 classes.\n",
      "Epoch 1/30\n",
      "100/100 [==============================] - 2s 17ms/step - loss: 1.1022 - acc: 0.3475\n",
      "Epoch 2/30\n",
      "100/100 [==============================] - 1s 9ms/step - loss: 1.0993 - acc: 0.3500\n",
      "Epoch 3/30\n",
      "100/100 [==============================] - 1s 9ms/step - loss: 1.0833 - acc: 0.4200\n",
      "Epoch 4/30\n",
      "100/100 [==============================] - 1s 10ms/step - loss: 1.0410 - acc: 0.4275\n",
      "Epoch 5/30\n",
      "100/100 [==============================] - 1s 9ms/step - loss: 0.9492 - acc: 0.5550\n",
      "Epoch 6/30\n",
      "100/100 [==============================] - 1s 9ms/step - loss: 0.8677 - acc: 0.6275\n",
      "Epoch 7/30\n",
      "100/100 [==============================] - 1s 10ms/step - loss: 0.7725 - acc: 0.7250\n",
      "Epoch 8/30\n",
      "100/100 [==============================] - 1s 10ms/step - loss: 0.7096 - acc: 0.7325\n",
      "Epoch 9/30\n",
      "100/100 [==============================] - 1s 9ms/step - loss: 0.6462 - acc: 0.7525\n",
      "Epoch 10/30\n",
      "100/100 [==============================] - 1s 10ms/step - loss: 0.5795 - acc: 0.7950\n",
      "Epoch 11/30\n",
      "100/100 [==============================] - 1s 11ms/step - loss: 0.5741 - acc: 0.7750\n",
      "Epoch 12/30\n",
      "100/100 [==============================] - 1s 10ms/step - loss: 0.4834 - acc: 0.8275\n",
      "Epoch 13/30\n",
      "100/100 [==============================] - 1s 10ms/step - loss: 0.4661 - acc: 0.8250\n",
      "Epoch 14/30\n",
      "100/100 [==============================] - 1s 10ms/step - loss: 0.5044 - acc: 0.8375\n",
      "Epoch 15/30\n",
      "100/100 [==============================] - 1s 9ms/step - loss: 0.4490 - acc: 0.8325\n",
      "Epoch 16/30\n",
      "100/100 [==============================] - 1s 11ms/step - loss: 0.4181 - acc: 0.8475: 1s - loss: 0.3\n",
      "Epoch 17/30\n",
      "100/100 [==============================] - 1s 10ms/step - loss: 0.4181 - acc: 0.8400\n",
      "Epoch 18/30\n",
      "100/100 [==============================] - 1s 10ms/step - loss: 0.3398 - acc: 0.8700\n",
      "Epoch 19/30\n",
      "100/100 [==============================] - 1s 10ms/step - loss: 0.3031 - acc: 0.9175\n",
      "Epoch 20/30\n",
      "100/100 [==============================] - 1s 10ms/step - loss: 0.3428 - acc: 0.8800\n",
      "Epoch 21/30\n",
      "100/100 [==============================] - 1s 10ms/step - loss: 0.2888 - acc: 0.9050\n",
      "Epoch 22/30\n",
      "100/100 [==============================] - 1s 10ms/step - loss: 0.3000 - acc: 0.9075\n",
      "Epoch 23/30\n",
      "100/100 [==============================] - 1s 10ms/step - loss: 0.2598 - acc: 0.9200\n",
      "Epoch 24/30\n",
      "100/100 [==============================] - 1s 10ms/step - loss: 0.2076 - acc: 0.9300\n",
      "Epoch 25/30\n",
      "100/100 [==============================] - 1s 11ms/step - loss: 0.2214 - acc: 0.9275\n",
      "Epoch 26/30\n",
      "100/100 [==============================] - 1s 10ms/step - loss: 0.2078 - acc: 0.9300\n",
      "Epoch 27/30\n",
      "100/100 [==============================] - 1s 10ms/step - loss: 0.2309 - acc: 0.9200\n",
      "Epoch 28/30\n",
      "100/100 [==============================] - 1s 10ms/step - loss: 0.2692 - acc: 0.8975\n",
      "Epoch 29/30\n",
      "100/100 [==============================] - 1s 10ms/step - loss: 0.1950 - acc: 0.9325\n",
      "Epoch 30/30\n",
      "100/100 [==============================] - 1s 10ms/step - loss: 0.1710 - acc: 0.9425\n",
      "[[0. 0. 1.]]\n"
     ]
    }
   ],
   "source": [
    "train_dir = 'geom'\n",
    "img_width, img_height = 28,28\n",
    "input_shape = (img_width, img_height,3)\n",
    "\n",
    "\n",
    "pic = Image.open(\"treug.jpg\")\n",
    "pix = np.array(pic.getdata()).reshape(1,pic.size[0], pic.size[1], 3)\n",
    "model = Sequential()\n",
    "model.add(Conv2D(16, (3,3), input_shape = input_shape))\n",
    "model.add(Activation('relu'))\n",
    "model.add(MaxPooling2D(pool_size = (2,2)))\n",
    "\n",
    "model.add(Conv2D(8, (3,3)))\n",
    "model.add(Activation('relu'))\n",
    "model.add(MaxPooling2D(pool_size = (2,2)))\n",
    "\n",
    "model.add(Conv2D(4, (3,3)))\n",
    "model.add(Activation('relu'))\n",
    "model.add(MaxPooling2D(pool_size = (2,2)))\n",
    "\n",
    "model.add(Flatten())\n",
    "model.add(Dense(64))\n",
    "model.add(Activation('relu'))\n",
    "model.add(Dropout(0.5))\n",
    "model.add(Dense(3))\n",
    "model.add(Activation('softmax'))\n",
    "model.compile(loss = 'categorical_crossentropy', optimizer = 'adam', metrics = ['accuracy'])\n",
    "\n",
    "datagen = ImageDataGenerator(rescale = 1./255)\n",
    "train_generator = datagen.flow_from_directory(train_dir, target_size = (28, 28), batch_size = 4,class_mode = 'categorical')\n",
    "model.fit_generator(train_generator, steps_per_epoch = 100, epochs = 30)\n",
    "print(model.predict(pix))"
   ]
  },
  {
   "cell_type": "code",
   "execution_count": null,
   "metadata": {},
   "outputs": [],
   "source": []
  },
  {
   "cell_type": "code",
   "execution_count": null,
   "metadata": {},
   "outputs": [],
   "source": []
  }
 ],
 "metadata": {
  "kernelspec": {
   "display_name": "Python 3",
   "language": "python",
   "name": "python3"
  },
  "language_info": {
   "codemirror_mode": {
    "name": "ipython",
    "version": 3
   },
   "file_extension": ".py",
   "mimetype": "text/x-python",
   "name": "python",
   "nbconvert_exporter": "python",
   "pygments_lexer": "ipython3",
   "version": "3.6.5"
  }
 },
 "nbformat": 4,
 "nbformat_minor": 2
}
